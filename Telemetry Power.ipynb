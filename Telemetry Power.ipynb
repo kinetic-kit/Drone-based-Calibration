{
 "cells": [
  {
   "cell_type": "code",
   "execution_count": 1,
   "id": "157b3d5c-1a93-4cb4-aa45-4c07ebc7f203",
   "metadata": {},
   "outputs": [],
   "source": [
    "import numpy as np\n",
    "import matplotlib.pyplot as plt"
   ]
  },
  {
   "cell_type": "code",
   "execution_count": 2,
   "id": "4777ba3b-5917-4afa-bd1a-8833ce2aa512",
   "metadata": {},
   "outputs": [],
   "source": [
    "def W_to_dBm(W):\n",
    "    '''converts quantity in Watts to deciBel-milliWatts'''\n",
    "    return (10*np.log10(W)) + 30\n",
    "\n",
    "def dBm_to_W(dBm):\n",
    "    '''converts quantity in deciBel-milliWatts to Watts'''\n",
    "    return 10**((dBm - 30)/10)"
   ]
  },
  {
   "cell_type": "code",
   "execution_count": 4,
   "id": "afbf3ad8-2df0-4ac3-964d-0e22ef157fbd",
   "metadata": {},
   "outputs": [],
   "source": [
    "def freq_to_wl(freq):\n",
    "    'freq in MHz; wl in meters'\n",
    "    return 300/freq"
   ]
  },
  {
   "cell_type": "code",
   "execution_count": 6,
   "id": "d4085e6b-7a83-44ef-8383-d3958cb22429",
   "metadata": {},
   "outputs": [
    {
     "data": {
      "text/plain": [
       "0.75"
      ]
     },
     "execution_count": 6,
     "metadata": {},
     "output_type": "execute_result"
    }
   ],
   "source": [
    "freq_to_wl(400)"
   ]
  },
  {
   "cell_type": "code",
   "execution_count": 13,
   "id": "3621ace1-4c0c-4936-bc13-15c9c444dff9",
   "metadata": {},
   "outputs": [
    {
     "data": {
      "text/plain": [
       "11.670194067377643"
      ]
     },
     "execution_count": 13,
     "metadata": {},
     "output_type": "execute_result"
    }
   ],
   "source": [
    "measured_P = -20\n",
    "freq = 915 #MHz\n",
    "wl = freq_to_wl(915)\n",
    "R = 1\n",
    "A_collect = (wl**2)/(4*np.pi)\n",
    "A_emit = 4*np.pi*(R**2)\n",
    "\n",
    "#total power emitted\n",
    "Pt_emitted = dBm_to_W(measured_P) * A_emit / A_collect\n",
    "W_to_dBm(Pt_emitted)\n"
   ]
  },
  {
   "cell_type": "code",
   "execution_count": 21,
   "id": "82381142-94e4-4af8-a820-8deb35b394fc",
   "metadata": {},
   "outputs": [
    {
     "data": {
      "text/plain": [
       "-12.309206019342732"
      ]
     },
     "execution_count": 21,
     "metadata": {},
     "output_type": "execute_result"
    }
   ],
   "source": [
    "measured_P = -30\n",
    "freq = 915 #MHz\n",
    "wl = freq_to_wl(915)\n",
    "R = 0.2\n",
    "A_collect = (wl**2)/(4*np.pi)\n",
    "A_emit = 4*np.pi*(R**2)\n",
    "\n",
    "#total power emitted\n",
    "Pt_emitted = dBm_to_W(measured_P) * A_emit / (A_collect)\n",
    "W_to_dBm(Pt_emitted)\n"
   ]
  },
  {
   "cell_type": "code",
   "execution_count": 22,
   "id": "15a03a84-66a0-4629-80a3-cb8e452efe98",
   "metadata": {},
   "outputs": [],
   "source": [
    "kB = 1.38e-23 \n",
    "def K_to_W(temp):\n",
    "    'temperature in Kelvin; power in Watts'\n",
    "    return temp*1.38e-23 "
   ]
  },
  {
   "cell_type": "code",
   "execution_count": 27,
   "id": "751bddac-8446-4a88-a1d5-6c507235d6dc",
   "metadata": {},
   "outputs": [
    {
     "data": {
      "text/plain": [
       "-203.829996588791"
      ]
     },
     "execution_count": 27,
     "metadata": {},
     "output_type": "execute_result"
    }
   ],
   "source": [
    "W_to_dBm(K_to_W(0.3))"
   ]
  },
  {
   "cell_type": "code",
   "execution_count": 11,
   "id": "b5b259f3-da6d-47b0-b92e-9809e3c79de5",
   "metadata": {},
   "outputs": [
    {
     "data": {
      "text/plain": [
       "-20.0"
      ]
     },
     "execution_count": 11,
     "metadata": {},
     "output_type": "execute_result"
    }
   ],
   "source": [
    "#What if the power doesn't obey the square law and is mainly dependent on the effective area?\n",
    "\n",
    "measured_P = -20\n",
    "freq = 915 #MHz\n",
    "wl = freq_to_wl(915)\n",
    "R = 1\n",
    "A_collect = (wl**2)/(4*np.pi)\n",
    "\n",
    "#A_emit becomes the effective area instead of the surface area of a sphere\n",
    "A_emit = (wl**2)/(4*np.pi)\n",
    "\n",
    "#total power emitted\n",
    "Pt_emitted = dBm_to_W(measured_P) * A_emit / A_collect\n",
    "W_to_dBm(Pt_emitted)\n"
   ]
  }
 ],
 "metadata": {
  "kernelspec": {
   "display_name": "Python 3 (ipykernel)",
   "language": "python",
   "name": "python3"
  },
  "language_info": {
   "codemirror_mode": {
    "name": "ipython",
    "version": 3
   },
   "file_extension": ".py",
   "mimetype": "text/x-python",
   "name": "python",
   "nbconvert_exporter": "python",
   "pygments_lexer": "ipython3",
   "version": "3.10.12"
  }
 },
 "nbformat": 4,
 "nbformat_minor": 5
}
