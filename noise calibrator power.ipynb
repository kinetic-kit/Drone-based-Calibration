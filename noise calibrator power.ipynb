{
 "cells": [
  {
   "cell_type": "code",
   "execution_count": 1,
   "id": "e4fc10c4-79a8-4a1d-bb7b-7d844e68860a",
   "metadata": {},
   "outputs": [],
   "source": [
    "import numpy as np\n",
    "import matplotlib.pyplot as plt\n",
    "import matplotlib.colors as colors\n",
    "import scipy.special"
   ]
  },
  {
   "cell_type": "code",
   "execution_count": 2,
   "id": "5b3c6e05-f927-4233-bec1-ef4f49f0e58c",
   "metadata": {},
   "outputs": [],
   "source": [
    "def W_to_dBm(W):\n",
    "    '''converts quantity in Watts to deciBel-milliWatts'''\n",
    "    return (10*np.log10(W)) + 30\n",
    "\n",
    "def dBm_to_W(dBm):\n",
    "    '''converts quantity in deciBel-milliWatts to Watts'''\n",
    "    return 10**((dBm - 30)/10)\n"
   ]
  },
  {
   "cell_type": "markdown",
   "id": "a155f150-aee5-41cc-b233-d6bb4d3c77b9",
   "metadata": {},
   "source": [
    "### How much power does the calibrator emits in terms of system temperature?"
   ]
  },
  {
   "cell_type": "code",
   "execution_count": 3,
   "id": "cd0d3b48-ff04-4ea0-9e99-8dfd27ce9b0d",
   "metadata": {},
   "outputs": [
    {
     "name": "stdout",
     "output_type": "stream",
     "text": [
      "0.0071710267092810484 K/Jy\n"
     ]
    }
   ],
   "source": [
    "#Spectral Irradiance\n",
    "\n",
    "#Brightness temperature per Spectral flux density or spectral irradiance\n",
    "\n",
    "kB = 1.38e-23 #Boltzmann's constant in J/K\n",
    "Jy = 1e-26 # unit of spectral flux density; Watts per square meter per Hz or Joules per square meter\n",
    "\n",
    "radius = 3 #apperture radius in meters\n",
    "ant_eff = 0.7 #antenna efficiency; unitless, from 0 to 1\n",
    "\n",
    "K_per_Jy = ((ant_eff*np.pi*(radius)**2)*Jy)/(2*kB)\n",
    "print(K_per_Jy, 'K/Jy')\n"
   ]
  },
  {
   "cell_type": "code",
   "execution_count": 94,
   "id": "b53b0329-3c90-423d-a079-fa1b1693f2ae",
   "metadata": {},
   "outputs": [
    {
     "data": {
      "text/plain": [
       "1e-12"
      ]
     },
     "execution_count": 94,
     "metadata": {},
     "output_type": "execute_result"
    }
   ],
   "source": [
    "power = -90\n",
    "power = dBm_to_W(power)\n",
    "power"
   ]
  },
  {
   "cell_type": "code",
   "execution_count": 95,
   "id": "3474e257-224f-4afd-bf7e-369ef6f0a0a9",
   "metadata": {},
   "outputs": [
    {
     "data": {
      "text/plain": [
       "7.304815334268349"
      ]
     },
     "execution_count": 95,
     "metadata": {},
     "output_type": "execute_result"
    }
   ],
   "source": [
    "altitude = 200\n",
    "SA = 4*np.pi*(altitude**2)\n",
    "bw = 195.3 *1e3\n",
    "\n",
    "T_power = power / (bw * SA)\n",
    "T_power = (T_power/Jy)*K_per_Jy\n",
    "T_power"
   ]
  },
  {
   "cell_type": "code",
   "execution_count": 96,
   "id": "42e90c8c-06f4-4ce2-9382-536b8f4f7959",
   "metadata": {},
   "outputs": [
    {
     "name": "stdout",
     "output_type": "stream",
     "text": [
      "0.5520701140002003 K\n"
     ]
    }
   ],
   "source": [
    "Tsys = 50 #Kelvin\n",
    "bandwidth = 195.3 *1e3 #Hz\n",
    "int_time = 42 *1e-3 #seconds (integration time)\n",
    "sigma_s = Tsys / np.sqrt(bandwidth*int_time) #Kelvin\n",
    "print(sigma_s, 'K')"
   ]
  },
  {
   "cell_type": "code",
   "execution_count": 97,
   "id": "77db1ad9-c558-4453-8c5d-5e52211c6a89",
   "metadata": {},
   "outputs": [
    {
     "name": "stdout",
     "output_type": "stream",
     "text": [
      "0.6327255186869991 K\n"
     ]
    }
   ],
   "source": [
    "Tsys_plus = Tsys + T_power #Kelvin\n",
    "bandwidth = 195.3 *1e3 #Hz\n",
    "int_time = 42 *1e-3 #seconds (integration time)\n",
    "sigma_T = Tsys_plus / np.sqrt(bandwidth*int_time) #Kelvin\n",
    "print(sigma_T, 'K')"
   ]
  },
  {
   "cell_type": "code",
   "execution_count": 98,
   "id": "f65ff972-5eff-4b38-92f2-84a7d1ad5ab1",
   "metadata": {},
   "outputs": [
    {
     "data": {
      "text/plain": [
       "1.1460963066853669"
      ]
     },
     "execution_count": 98,
     "metadata": {},
     "output_type": "execute_result"
    }
   ],
   "source": [
    "sigma_T/sigma_s"
   ]
  },
  {
   "cell_type": "code",
   "execution_count": 103,
   "id": "943e010a-b825-4420-b0b0-a33012302081",
   "metadata": {},
   "outputs": [
    {
     "name": "stdout",
     "output_type": "stream",
     "text": [
      "0.5520701140002003 K\n",
      "0.6095628215443877 K\n",
      "T signal: 55.207011400019965 K\n",
      "SNR: 1.1041402280003993\n"
     ]
    }
   ],
   "source": [
    "power = -81.21615003951445 \n",
    "power = dBm_to_W(power)\n",
    "\n",
    "Tsys = 50 #Kelvin\n",
    "bandwidth = 195.3 *1e3 #Hz\n",
    "int_time = 42 *1e-3 #seconds (integration time)\n",
    "sigma_s = Tsys / np.sqrt(bandwidth*int_time) #Kelvin\n",
    "print(sigma_s, 'K')\n",
    "\n",
    "altitude = 200\n",
    "SA = 4*np.pi*(altitude**2)\n",
    "bw = 195.3 *1e3\n",
    "\n",
    "T_power = power / (bw * SA)\n",
    "T_power = (T_power/Jy)*K_per_Jy\n",
    "\n",
    "\n",
    "Tsys_plus = T_power #Kelvin\n",
    "bandwidth = 195.3 *1e3 #Hz\n",
    "int_time = 42 *1e-3 #seconds (integration time)\n",
    "sigma_T = Tsys_plus / np.sqrt(bandwidth*int_time) #Kelvin\n",
    "print(sigma_T, 'K')\n",
    "\n",
    "print('T signal:', T_power, 'K')\n",
    "print('SNR:', sigma_T/sigma_s)"
   ]
  }
 ],
 "metadata": {
  "kernelspec": {
   "display_name": "Python 3 (ipykernel)",
   "language": "python",
   "name": "python3"
  },
  "language_info": {
   "codemirror_mode": {
    "name": "ipython",
    "version": 3
   },
   "file_extension": ".py",
   "mimetype": "text/x-python",
   "name": "python",
   "nbconvert_exporter": "python",
   "pygments_lexer": "ipython3",
   "version": "3.10.12"
  }
 },
 "nbformat": 4,
 "nbformat_minor": 5
}
